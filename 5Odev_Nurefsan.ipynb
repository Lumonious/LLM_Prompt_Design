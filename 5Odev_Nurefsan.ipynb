{
  "nbformat": 4,
  "nbformat_minor": 0,
  "metadata": {
    "colab": {
      "provenance": []
    },
    "kernelspec": {
      "name": "python3",
      "display_name": "Python 3"
    },
    "language_info": {
      "name": "python"
    }
  },
  "cells": [
    {
      "cell_type": "markdown",
      "source": [
        "\n",
        "\n",
        "## 📝 ** Ödev**\n",
        "\n",
        "* Bir konu seçin (ör: iklim değişikliği, veri bilimi, bir şehir tanıtımı).\n",
        "* Her prompt tasarım tekniğini bu konuya göre yazın.\n",
        "* OpenAI API’si ile yanıtları çekin.\n",
        "* En iyi sonucu hangisinin verdiğini tartışın."
      ],
      "metadata": {
        "id": "6uJjF9Mbdb3B"
      }
    },
    {
      "cell_type": "code",
      "source": [
        "# Gemini kullandım çünkü OpenAI'a para ödemek istemedim bende ücretsiz başka bir yapay zeka aracı kullandım.\n",
        "# Gerekli Google kütüphanesini yüklendi\n",
        "!pip install -q -U google-generativeai\n",
        "\n",
        "import google.generativeai as genai\n",
        "from google.colab import userdata\n",
        "import os\n",
        "\n",
        "# API Anahtarını Colab Secrets'tan alındı\n",
        "\n",
        "try:\n",
        "    api_key = userdata.get('GOOGLE_API_KEY')\n",
        "    genai.configure(api_key=api_key)\n",
        "except userdata.SecretNotFoundError:\n",
        "    raise ValueError(\"❌ GOOGLE_API_KEY bulunamadı. Lütfen sol menüdeki 'Secrets' (🔑) bölümünü kontrol edin ve anahtarı bu isimle kaydedin.\")\n",
        "\n",
        "print(\"✅ Google API Anahtarı başarıyla yüklendi.\")\n",
        "\n",
        "# Gemini modelini başlatıldı\n",
        "\n",
        "model = genai.GenerativeModel('gemini-1.5-flash-latest')\n",
        "print(\"✅ Gemini modeli başarıyla başlatıldı.\")\n",
        "\n",
        "\n",
        "# Gemini API'sinden yanıt döndüren fonksiyon\n",
        "def get_response(prompt):\n",
        "    \"\"\"Verilen prompt'u kullanarak Gemini modelinden bir yanıt alır.\"\"\"\n",
        "    try:\n",
        "        response = model.generate_content(prompt)\n",
        "        # Yanıt doğrudan .text özelliği ile alındı\n",
        "        return response.text.strip()\n",
        "    except Exception as e:\n",
        "        return f\"Hata oluştu: {e}\"\n",
        "\n",
        "# --- İstem Tekniklerini Çalıştırma ---\n",
        "\n",
        "# 🔵 Zero-shot Prompting\n",
        "zero_shot_prompt = \"Kayseri hakkında kısa bir tanım yap.\"\n",
        "print(\"\\n🔵 Zero-shot:\\n\", get_response(zero_shot_prompt))\n",
        "\n",
        "# 🟡 Few-shot Prompting\n",
        "\n",
        "few_shot_prompt = \"\"\"\\\n",
        "Ankara: Türkiye'nin başkentidir, İç Anadolu Bölgesi'nde yer alır ve birçok kamu kurumuna ev sahipliği yapar.\n",
        "İzmir: Türkiye'nin batısında yer alan büyük bir liman kentidir, Ege Denizi kıyısındadır ve tarihiyle tanınır.\n",
        "Kayseri:\"\"\"\n",
        "print(\"\\n🟡 Few-shot:\\n\", get_response(few_shot_prompt))\n",
        "\n",
        "# 🔗 Chain of Thought Prompting\n",
        "cot_prompt = \"\"\"\\\n",
        "Soru: Kayseri hakkında kısa bir tanım yap.\n",
        "Düşün: Kayseri'nin coğrafi konumunu belirt. (İç Anadolu) Öne çıkan coğrafi özelliğini ekle. (Erciyes Dağı) Tarihi öneminden bahset. (Tarihi İpek Yolu, farklı medeniyetler) Gastronomik ününü vurgula. (Pastırma, mantı) Ekonomik yapısını belirt. (Sanayi, ticaret)\n",
        "Cevap:\"\"\"\n",
        "print(\"\\n🔗 Chain of Thought:\\n\", get_response(cot_prompt))"
      ],
      "metadata": {
        "colab": {
          "base_uri": "https://localhost:8080/",
          "height": 233
        },
        "id": "36u2_drSzX5q",
        "outputId": "31a2efcf-b8d8-4bb2-c6e4-b2c603b2dc4f"
      },
      "execution_count": null,
      "outputs": [
        {
          "output_type": "stream",
          "name": "stdout",
          "text": [
            "✅ Google API Anahtarı başarıyla yüklendi.\n",
            "✅ Gemini modeli başarıyla başlatıldı.\n",
            "\n",
            "🔵 Zero-shot:\n",
            " Kayseri, Türkiye'nin İç Anadolu Bölgesi'nde yer alan tarihi ve kültürel zenginliklere sahip bir şehirdir.  Erciyes Dağı'nın eteklerinde kurulu olup,  tarihi İpek Yolu üzerindeki konumu nedeniyle ticaret ve sanayi açısından önemli bir merkezdir.  Pastırma, sucuk gibi lezzetleriyle ünlü olup, aynı zamanda gelişmiş bir sanayi altyapısına sahiptir.  Kapadokya bölgesine yakınlığı nedeniyle turizm de önemli bir sektördür.\n",
            "\n",
            "🟡 Few-shot:\n",
            " Kayseri: İç Anadolu Bölgesi'nde yer alan, tarihi ve kültürel zenginlikleriyle bilinen bir şehirdir.  Erciyes Dağı'nın eteklerinde kurulmuş olup,  kaplıcaları ve Kayseri pastasıyla da ünlüdür.\n",
            "\n",
            "🔗 Chain of Thought:\n",
            " Kayseri, İç Anadolu Bölgesi'nde, görkemli Erciyes Dağı'nın eteklerinde kurulmuş tarihi ve kültürel zenginlikleriyle öne çıkan bir şehirdir.  Tarihi İpek Yolu üzerindeki konumu nedeniyle binlerce yıldır farklı medeniyetlere ev sahipliği yapmış ve bu zengin geçmişin izlerini mimarisi ve kültüründe barındırmaktadır.  Lezzetli pastırması ve eşsiz mantısıyla ünlü Kayseri, güçlü bir sanayi ve ticaret yapısına da sahiptir.\n"
          ]
        }
      ]
    },
    {
      "cell_type": "markdown",
      "source": [
        "**.🔵 Zero-shot Prompting (Sıfır Örnekli İstem)**\n",
        "\n",
        "Hiçbir yönlendirme olmadan, tek bir basit cümleden bu kadar zengin bir içerik üretmesi modelin temel bilgi seviyesinin ne kadar yüksek olduğunu gösteriyor. Etkileyici ve çok kullanışlı bir sonuç.\n",
        "\n",
        "**.🟡 Few-shot Prompting (Az Örnekli İstem)**\n",
        "\n",
        "Bu tekniğin asıl amacı, modelin belirli bir formatı veya stili öğrenmesini sağlamaktır ve bu görevde mükemmel bir iş çıkarmış. Ancak, verilen örnekler çok detaylı olmadığı için, sonuç da Zero-shot veya Chain of Thought kadar zengin değil. Örneğin, mutfağından hiç bahsetmemiş. Bu, tekniğin bir hatası değil, beklenen bir sonucudur.\n",
        "\n",
        "**.🔗 Chain of Thought Prompting (Düşünce Zinciri İstemi)**\n",
        "\n",
        "Bu, en kontrollü ve en eksiksiz sonuçtur. Modele sadece ne yapacağını değil, nasıl düşüneceğini de söyleyerek tam olarak istediğimiz bilgileri içeren, mantıksal bir akışa sahip bir metin elde ettik.\n",
        "\n",
        "\n"
      ],
      "metadata": {
        "id": "9YI202lv0-GX"
      }
    }
  ]
}